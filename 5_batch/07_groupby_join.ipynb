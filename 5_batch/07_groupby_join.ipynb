{
 "cells": [
  {
   "cell_type": "code",
   "execution_count": 1,
   "id": "594867a2-f163-41ce-a947-7081015b5fc6",
   "metadata": {},
   "outputs": [
    {
     "name": "stderr",
     "output_type": "stream",
     "text": [
      "Setting default log level to \"WARN\".\n",
      "To adjust logging level use sc.setLogLevel(newLevel). For SparkR, use setLogLevel(newLevel).\n"
     ]
    },
    {
     "name": "stdout",
     "output_type": "stream",
     "text": [
      "25/03/11 03:22:18 WARN NativeCodeLoader: Unable to load native-hadoop library for your platform... using builtin-java classes where applicable\n"
     ]
    }
   ],
   "source": [
    "import pyspark \n",
    "from pyspark.sql import SparkSession\n",
    "\n",
    "spark = SparkSession.builder \\\n",
    "        .master('local[*]') \\\n",
    "        .appName('test')\\\n",
    "        .getOrCreate()"
   ]
  },
  {
   "cell_type": "code",
   "execution_count": 2,
   "id": "08e34fc0-4ecb-4f7f-b0e1-fc19908cf830",
   "metadata": {},
   "outputs": [
    {
     "name": "stderr",
     "output_type": "stream",
     "text": [
      "                                                                                \r"
     ]
    }
   ],
   "source": [
    "df_green = spark.read.parquet('code/data/pq/green/*/*')\n",
    "df_yellow = spark.read.parquet('code/data/pq/yellow/*/*')"
   ]
  },
  {
   "cell_type": "code",
   "execution_count": 3,
   "id": "7422262d-8550-4754-a656-23ad32be3df5",
   "metadata": {},
   "outputs": [],
   "source": [
    "df_green.createOrReplaceTempView(\"green\")\n",
    "df_yellow.createOrReplaceTempView(\"yellow\")"
   ]
  },
  {
   "cell_type": "code",
   "execution_count": 20,
   "id": "f051c7ed-ab62-4f4a-85c3-e5e813e2571b",
   "metadata": {},
   "outputs": [],
   "source": [
    "df_green_revenue = spark.sql(\"\"\"\n",
    "    SELECT \n",
    "        -- Revenue grouping \n",
    "        date_trunc('hour', lpep_pickup_datetime) AS hour, \n",
    "        PULocationID AS zone,\n",
    "        \n",
    "        -- Revenue calculation \n",
    "        SUM(total_amount) AS amount,\n",
    "        count(1) as number_of_records\n",
    "    FROM\n",
    "        green\n",
    "    WHERE lpep_pickup_datetime > '2020-01-01 00:00:00'\n",
    "    GROUP BY\n",
    "        1, 2\n",
    "\"\"\")"
   ]
  },
  {
   "cell_type": "code",
   "execution_count": 17,
   "id": "d73af463-124e-4532-8f92-b006fbf046c7",
   "metadata": {},
   "outputs": [
    {
     "name": "stderr",
     "output_type": "stream",
     "text": [
      "[Stage 8:============================================>              (3 + 1) / 4]\r"
     ]
    },
    {
     "name": "stdout",
     "output_type": "stream",
     "text": [
      "+-------------------+----+------------------+-----------------+\n",
      "|               hour|zone|            amount|number_of_records|\n",
      "+-------------------+----+------------------+-----------------+\n",
      "|2020-01-01 00:00:00|   7| 769.7299999999996|               45|\n",
      "|2020-01-01 00:00:00|  17|195.03000000000003|                9|\n",
      "|2020-01-01 00:00:00|  18|               7.8|                1|\n",
      "|2020-01-01 00:00:00|  22|              15.8|                1|\n",
      "|2020-01-01 00:00:00|  24|              87.6|                3|\n",
      "|2020-01-01 00:00:00|  25| 531.0000000000002|               26|\n",
      "|2020-01-01 00:00:00|  29|              61.3|                1|\n",
      "|2020-01-01 00:00:00|  32| 68.94999999999999|                2|\n",
      "|2020-01-01 00:00:00|  33|317.27000000000004|               11|\n",
      "|2020-01-01 00:00:00|  35|            129.96|                5|\n",
      "|2020-01-01 00:00:00|  36|295.34000000000003|               11|\n",
      "|2020-01-01 00:00:00|  37|            175.67|                6|\n",
      "|2020-01-01 00:00:00|  38| 98.78999999999999|                2|\n",
      "|2020-01-01 00:00:00|  40|168.97999999999996|                8|\n",
      "|2020-01-01 00:00:00|  41|1363.9599999999987|               84|\n",
      "|2020-01-01 00:00:00|  42| 799.7599999999994|               52|\n",
      "|2020-01-01 00:00:00|  43|            107.52|                6|\n",
      "|2020-01-01 00:00:00|  47|              13.3|                1|\n",
      "|2020-01-01 00:00:00|  49|266.76000000000005|               14|\n",
      "|2020-01-01 00:00:00|  51|              17.8|                2|\n",
      "+-------------------+----+------------------+-----------------+\n",
      "only showing top 20 rows\n",
      "\n"
     ]
    },
    {
     "name": "stderr",
     "output_type": "stream",
     "text": [
      "                                                                                \r"
     ]
    }
   ],
   "source": [
    "df_green_revenue.show()"
   ]
  },
  {
   "cell_type": "code",
   "execution_count": 27,
   "id": "7498878b-b970-418f-927e-bbc5495d0456",
   "metadata": {},
   "outputs": [
    {
     "name": "stderr",
     "output_type": "stream",
     "text": [
      "                                                                                \r"
     ]
    }
   ],
   "source": [
    "df_green_revenue \\\n",
    "    .repartition(20) \\\n",
    "    .write.parquet('code/data/report/revenue/green', mode='overwrite')"
   ]
  },
  {
   "cell_type": "code",
   "execution_count": 24,
   "id": "fd1efa79-edf4-4295-a84e-1f1f8960760c",
   "metadata": {},
   "outputs": [],
   "source": [
    "df_yellow_revenue = spark.sql(\"\"\"\n",
    "    SELECT \n",
    "        -- Revenue grouping \n",
    "        date_trunc('hour', tpep_pickup_datetime) AS hour, \n",
    "        PULocationID AS zone,\n",
    "        \n",
    "        -- Revenue calculation \n",
    "        SUM(total_amount) AS amount,\n",
    "        count(1) as number_of_records\n",
    "    FROM\n",
    "        yellow\n",
    "    WHERE tpep_pickup_datetime > '2020-01-01 00:00:00'\n",
    "    GROUP BY\n",
    "        1, 2\n",
    "\"\"\")"
   ]
  },
  {
   "cell_type": "code",
   "execution_count": 28,
   "id": "9e25b003-932c-423b-82e1-caa8a028d7de",
   "metadata": {},
   "outputs": [
    {
     "name": "stderr",
     "output_type": "stream",
     "text": [
      "                                                                                \r"
     ]
    }
   ],
   "source": [
    "df_yellow_revenue \\\n",
    "    .repartition(20) \\\n",
    "    .write.parquet('code/data/report/revenue/yellow', mode='overwrite')"
   ]
  },
  {
   "cell_type": "code",
   "execution_count": 31,
   "id": "9d2da20c-7f3e-4d87-9e55-30e533daac7c",
   "metadata": {},
   "outputs": [],
   "source": [
    "df_join = df_green_revenue.join(df_yellow_revenue, on=['hour','zone'], how='outer')"
   ]
  },
  {
   "cell_type": "code",
   "execution_count": 32,
   "id": "7d6d30eb-5218-45dc-83b9-af56afc1d141",
   "metadata": {},
   "outputs": [
    {
     "name": "stderr",
     "output_type": "stream",
     "text": [
      "[Stage 51:>                                                         (0 + 1) / 1]\r"
     ]
    },
    {
     "name": "stdout",
     "output_type": "stream",
     "text": [
      "+-------------------+----+------------------+-----------------+------------------+-----------------+\n",
      "|               hour|zone|            amount|number_of_records|            amount|number_of_records|\n",
      "+-------------------+----+------------------+-----------------+------------------+-----------------+\n",
      "|2020-01-01 00:00:00|   3|              null|             null|              25.0|                1|\n",
      "|2020-01-01 00:00:00|   4|              null|             null|1004.3000000000002|               57|\n",
      "|2020-01-01 00:00:00|   7| 769.7299999999996|               45| 455.1700000000001|               38|\n",
      "|2020-01-01 00:00:00|  12|              null|             null|             107.0|                6|\n",
      "|2020-01-01 00:00:00|  37|            175.67|                6|161.60999999999999|                7|\n",
      "|2020-01-01 00:00:00|  40|168.97999999999996|                8|             89.97|                5|\n",
      "|2020-01-01 00:00:00|  45|              null|             null| 732.4800000000002|               42|\n",
      "|2020-01-01 00:00:00|  47|              13.3|                1|               8.3|                1|\n",
      "|2020-01-01 00:00:00|  51|              17.8|                2|              31.0|                1|\n",
      "|2020-01-01 00:00:00|  62|             15.95|                1|             61.43|                1|\n",
      "|2020-01-01 00:00:00|  68|              null|             null|7798.6200000000135|              394|\n",
      "|2020-01-01 00:00:00|  73|              null|             null|              17.3|                1|\n",
      "|2020-01-01 00:00:00|  74|317.09000000000015|               24| 586.2100000000002|               47|\n",
      "|2020-01-01 00:00:00|  77| 75.99000000000001|                2|            134.24|                3|\n",
      "|2020-01-01 00:00:00|  80|364.32000000000005|               13|             371.4|               20|\n",
      "|2020-01-01 00:00:00|  83|              94.1|                7|               9.8|                1|\n",
      "|2020-01-01 00:00:00|  88|              null|             null| 823.8000000000002|               36|\n",
      "|2020-01-01 00:00:00|  89|              11.3|                1|             48.16|                2|\n",
      "|2020-01-01 00:00:00|  94| 64.24000000000001|                3|              13.3|                1|\n",
      "|2020-01-01 00:00:00|  95|202.20000000000002|               15|               6.3|                1|\n",
      "+-------------------+----+------------------+-----------------+------------------+-----------------+\n",
      "only showing top 20 rows\n",
      "\n"
     ]
    },
    {
     "name": "stderr",
     "output_type": "stream",
     "text": [
      "                                                                                \r"
     ]
    }
   ],
   "source": [
    "df_join.show()"
   ]
  },
  {
   "cell_type": "code",
   "execution_count": 40,
   "id": "259c214d-51f4-40c5-9d36-289bc99d672f",
   "metadata": {},
   "outputs": [],
   "source": [
    "df_green_revenue = spark.read.parquet('code/data/report/revenue/green')\n",
    "df_yellow_revenue = spark.read.parquet('code/data/report/revenue/yellow')"
   ]
  },
  {
   "cell_type": "code",
   "execution_count": 41,
   "id": "7e179c41-3f82-4a29-ba03-548b20151f67",
   "metadata": {},
   "outputs": [],
   "source": [
    "df_green_revenue_tmp = df_green_revenue \\\n",
    " .withColumnRenamed('amount', 'green_amount') \\\n",
    " .withColumnRenamed('number_of_records', 'green_number_of_records') \n",
    "\n",
    "df_yellow_revenue_tmp = df_yellow_revenue \\\n",
    " .withColumnRenamed('amount', 'yellow_amount') \\\n",
    " .withColumnRenamed('number_of_records', 'yellow_number_of_records') "
   ]
  },
  {
   "cell_type": "code",
   "execution_count": 42,
   "id": "f3ce45a0-6c3b-47ae-97fb-1819d1c6d236",
   "metadata": {},
   "outputs": [],
   "source": [
    "df_join = df_green_revenue_tmp.join(df_yellow_revenue_tmp, on=['hour','zone'], how='outer')"
   ]
  },
  {
   "cell_type": "code",
   "execution_count": 38,
   "id": "f3ae35e8-9d8b-4d27-a715-927f00f8a828",
   "metadata": {},
   "outputs": [
    {
     "name": "stderr",
     "output_type": "stream",
     "text": [
      "[Stage 61:>                                                         (0 + 1) / 1]\r"
     ]
    },
    {
     "name": "stdout",
     "output_type": "stream",
     "text": [
      "+-------------------+----+------------------+-----------------------+-------------+------------------------+\n",
      "|               hour|zone|      green_amount|green_number_of_records|yellow_amount|yellow_number_of_records|\n",
      "+-------------------+----+------------------+-----------------------+-------------+------------------------+\n",
      "|2020-01-01 01:00:00|  17| 598.1499999999999|                     18|       464.51|                      18|\n",
      "|2020-01-01 06:00:00|  17|              16.3|                      1|         null|                    null|\n",
      "|2020-01-01 09:00:00|  17|            123.25|                      3|         null|                    null|\n",
      "|2020-01-01 12:00:00|  17|              27.6|                      2|         null|                    null|\n",
      "|2020-01-01 22:00:00|  17|              16.6|                      2|         null|                    null|\n",
      "|2020-01-02 00:00:00|  17|              null|                   null|         18.6|                       2|\n",
      "|2020-01-02 07:00:00|  17|167.89999999999998|                      8|        32.11|                       1|\n",
      "|2020-01-02 10:00:00|  17|199.23000000000005|                     11|         null|                    null|\n",
      "|2020-01-02 11:00:00|  17|              13.8|                      1|        11.76|                       1|\n",
      "|2020-01-02 17:00:00|  17|221.08000000000004|                      9|        21.96|                       1|\n",
      "|2020-01-02 20:00:00|  17|              null|                   null|        37.67|                       1|\n",
      "|2020-01-03 00:00:00|  17|              null|                   null|          5.3|                       1|\n",
      "|2020-01-03 08:00:00|  17|187.63000000000002|                      8|         null|                    null|\n",
      "|2020-01-03 12:00:00|  17|             212.0|                      9|        150.5|                       4|\n",
      "|2020-01-03 21:00:00|  17|            114.21|                      7|         31.1|                       2|\n",
      "|2020-01-04 03:00:00|  17|              null|                   null|         48.3|                       1|\n",
      "|2020-01-04 04:00:00|  17|             35.72|                      2|         17.6|                       2|\n",
      "|2020-01-04 06:00:00|  17|              null|                   null|        29.32|                       1|\n",
      "|2020-01-04 11:00:00|  17|186.95999999999998|                      8|         null|                    null|\n",
      "|2020-01-04 14:00:00|  17|             47.69|                      3|          8.8|                       1|\n",
      "+-------------------+----+------------------+-----------------------+-------------+------------------------+\n",
      "only showing top 20 rows\n",
      "\n"
     ]
    },
    {
     "name": "stderr",
     "output_type": "stream",
     "text": [
      "                                                                                \r"
     ]
    }
   ],
   "source": [
    "df_join \\\n",
    ".filter(df_join.zone == '17') \\\n",
    ".show()"
   ]
  },
  {
   "cell_type": "code",
   "execution_count": 43,
   "id": "0bcf619f-bef1-457f-a94f-2d21754611b7",
   "metadata": {},
   "outputs": [
    {
     "name": "stderr",
     "output_type": "stream",
     "text": [
      "                                                                                \r"
     ]
    }
   ],
   "source": [
    "df_join.write.parquet(\"code/data/report/revenue/total\", mode='overwrite')"
   ]
  },
  {
   "cell_type": "code",
   "execution_count": 44,
   "id": "1942402e-9b20-48dc-b330-00b381145639",
   "metadata": {},
   "outputs": [],
   "source": [
    "df_join = spark.read.parquet(\"code/data/report/revenue/total\")"
   ]
  },
  {
   "cell_type": "code",
   "execution_count": 45,
   "id": "ab400867-7abd-4f6e-8ebc-d4ad0d784abb",
   "metadata": {},
   "outputs": [],
   "source": [
    "df_zones = spark.read.parquet(\"code/data/zones\")"
   ]
  },
  {
   "cell_type": "code",
   "execution_count": 47,
   "id": "83438fef-bc02-47ed-86ac-4496da22c572",
   "metadata": {},
   "outputs": [],
   "source": [
    "df_result = df_join.join(df_zones, df_join.zone == df_zones.LocationID)"
   ]
  },
  {
   "cell_type": "code",
   "execution_count": 50,
   "id": "b31ae9b6-bd3f-4d14-afbc-fbf5760902f7",
   "metadata": {},
   "outputs": [
    {
     "name": "stdout",
     "output_type": "stream",
     "text": [
      "+-------------------+----+------------------+-----------------------+------------------+------------------------+---------+--------------------+------------+\n",
      "|               hour|zone|      green_amount|green_number_of_records|     yellow_amount|yellow_number_of_records|  Borough|                Zone|service_zone|\n",
      "+-------------------+----+------------------+-----------------------+------------------+------------------------+---------+--------------------+------------+\n",
      "|2020-01-01 00:00:00|  14|              null|                   null|               8.8|                       1| Brooklyn|           Bay Ridge|   Boro Zone|\n",
      "|2020-01-01 00:00:00|  15|              null|                   null|             34.09|                       1|   Queens|Bay Terrace/Fort ...|   Boro Zone|\n",
      "|2020-01-01 00:00:00|  17|195.03000000000003|                      9|220.20999999999998|                       8| Brooklyn|             Bedford|   Boro Zone|\n",
      "|2020-01-01 00:00:00|  25| 531.0000000000002|                     26|            324.35|                      16| Brooklyn|         Boerum Hill|   Boro Zone|\n",
      "|2020-01-01 00:00:00|  32| 68.94999999999999|                      2|              18.0|                       1|    Bronx|           Bronxdale|   Boro Zone|\n",
      "|2020-01-01 00:00:00|  43|            107.52|                      6| 6539.510000000012|                     390|Manhattan|        Central Park| Yellow Zone|\n",
      "|2020-01-01 00:00:00|  49|266.76000000000005|                     14|185.64999999999998|                      10| Brooklyn|        Clinton Hill|   Boro Zone|\n",
      "|2020-01-01 00:00:00|  59|              50.9|                      3|              null|                    null|    Bronx|        Crotona Park|   Boro Zone|\n",
      "|2020-01-01 00:00:00|  69|              11.8|                      1|            106.52|                       4|    Bronx|East Concourse/Co...|   Boro Zone|\n",
      "|2020-01-01 00:00:00|  71|              23.8|                      1|              null|                    null| Brooklyn|East Flatbush/Far...|   Boro Zone|\n",
      "|2020-01-01 00:00:00|  72|             67.53|                      2|              null|                    null| Brooklyn|East Flatbush/Rem...|   Boro Zone|\n",
      "|2020-01-01 00:00:00|  75|278.14000000000004|                     26| 958.3500000000004|                      69|Manhattan|   East Harlem South|   Boro Zone|\n",
      "|2020-01-01 00:00:00|  78|             34.46|                      2|              null|                    null|    Bronx|        East Tremont|   Boro Zone|\n",
      "|2020-01-01 00:00:00|  82| 305.1200000000001|                     28|              29.8|                       1|   Queens|            Elmhurst|   Boro Zone|\n",
      "|2020-01-01 00:00:00|  85|             64.76|                      4|            102.56|                       3| Brooklyn|             Erasmus|   Boro Zone|\n",
      "|2020-01-01 00:00:00|  87|              null|                   null|2456.6699999999987|                     112|Manhattan|Financial Distric...| Yellow Zone|\n",
      "|2020-01-01 00:00:00|  93|              null|                   null|210.28000000000003|                       3|   Queens|Flushing Meadows-...|   Boro Zone|\n",
      "|2020-01-01 00:00:00| 107|              null|                   null| 6441.030000000006|                     380|Manhattan|            Gramercy| Yellow Zone|\n",
      "|2020-01-01 00:00:00| 113|              null|                   null| 3984.319999999998|                     220|Manhattan|Greenwich Village...| Yellow Zone|\n",
      "|2020-01-01 00:00:00| 116|            328.76|                     18| 561.5100000000001|                      34|Manhattan|    Hamilton Heights|   Boro Zone|\n",
      "+-------------------+----+------------------+-----------------------+------------------+------------------------+---------+--------------------+------------+\n",
      "only showing top 20 rows\n",
      "\n"
     ]
    }
   ],
   "source": [
    "df_result.drop('LocationID').write.parquet('tmp/revenue-zones')"
   ]
  }
 ],
 "metadata": {
  "kernelspec": {
   "display_name": "Python 3 (ipykernel)",
   "language": "python",
   "name": "python3"
  },
  "language_info": {
   "codemirror_mode": {
    "name": "ipython",
    "version": 3
   },
   "file_extension": ".py",
   "mimetype": "text/x-python",
   "name": "python",
   "nbconvert_exporter": "python",
   "pygments_lexer": "ipython3",
   "version": "3.12.2"
  }
 },
 "nbformat": 4,
 "nbformat_minor": 5
}
