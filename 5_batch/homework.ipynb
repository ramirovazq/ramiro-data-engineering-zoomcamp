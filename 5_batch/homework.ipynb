{
 "cells": [
  {
   "cell_type": "code",
   "execution_count": 58,
   "id": "6f867d22-58df-42de-b540-e1b04d6fc9d4",
   "metadata": {},
   "outputs": [],
   "source": [
    "import pyspark \n",
    "from pyspark.sql import SparkSession"
   ]
  },
  {
   "cell_type": "code",
   "execution_count": 21,
   "id": "40a71f76-a551-4c6f-b979-d55adfec48ca",
   "metadata": {},
   "outputs": [
    {
     "data": {
      "text/plain": [
       "'3.3.2'"
      ]
     },
     "execution_count": 21,
     "metadata": {},
     "output_type": "execute_result"
    }
   ],
   "source": [
    "pyspark.__version__"
   ]
  },
  {
   "cell_type": "code",
   "execution_count": 59,
   "id": "30d2e446-d61e-49ec-8292-b692a4738638",
   "metadata": {},
   "outputs": [],
   "source": [
    "spark = SparkSession.builder \\\n",
    "        .master('local[*]') \\\n",
    "        .appName('test')\\\n",
    "        .getOrCreate()"
   ]
  },
  {
   "cell_type": "code",
   "execution_count": 11,
   "id": "7247d3d5-8bef-45bc-8192-0f5521522664",
   "metadata": {},
   "outputs": [
    {
     "data": {
      "text/plain": [
       "<module 'pyspark.version' from '/home/ramisu/spark/spark-3.3.2-bin-hadoop3/python/pyspark/version.py'>"
      ]
     },
     "execution_count": 11,
     "metadata": {},
     "output_type": "execute_result"
    }
   ],
   "source": [
    "pyspark.version"
   ]
  },
  {
   "cell_type": "code",
   "execution_count": 23,
   "id": "05ba56c2-b1c0-4747-a492-a34398f5894a",
   "metadata": {},
   "outputs": [
    {
     "name": "stdout",
     "output_type": "stream",
     "text": [
      "total 62M\n",
      "drwxrwxr-x 2 ramisu ramisu 4.0K Mar 11 03:40 .\n",
      "drwxrwxr-x 3 ramisu ramisu 4.0K Mar 11 04:49 ..\n",
      "-rw-rw-r-- 1 ramisu ramisu  62M Dec 18 21:21 yellow_tripdata_2024-10.parquet\n"
     ]
    }
   ],
   "source": [
    "!ls -lakh code/data/homework/raw\n"
   ]
  },
  {
   "cell_type": "code",
   "execution_count": 24,
   "id": "68cfd1b0-fa84-4181-8db0-82240fbc2815",
   "metadata": {},
   "outputs": [],
   "source": [
    "df = spark.read \\\n",
    "    .parquet('code/data/homework/raw/yellow_tripdata_2024-10.parquet')"
   ]
  },
  {
   "cell_type": "code",
   "execution_count": 25,
   "id": "92c5d0d4-eb41-4393-b16e-3b8fe8fa2949",
   "metadata": {},
   "outputs": [
    {
     "name": "stdout",
     "output_type": "stream",
     "text": [
      "+--------+--------------------+---------------------+---------------+-------------+----------+------------------+------------+------------+------------+-----------+-----+-------+----------+------------+---------------------+------------+--------------------+-----------+\n",
      "|VendorID|tpep_pickup_datetime|tpep_dropoff_datetime|passenger_count|trip_distance|RatecodeID|store_and_fwd_flag|PULocationID|DOLocationID|payment_type|fare_amount|extra|mta_tax|tip_amount|tolls_amount|improvement_surcharge|total_amount|congestion_surcharge|Airport_fee|\n",
      "+--------+--------------------+---------------------+---------------+-------------+----------+------------------+------------+------------+------------+-----------+-----+-------+----------+------------+---------------------+------------+--------------------+-----------+\n",
      "|       2| 2024-10-01 00:30:44|  2024-10-01 00:48:26|              1|          3.0|         1|                 N|         162|         246|           1|       18.4|  1.0|    0.5|       1.5|         0.0|                  1.0|        24.9|                 2.5|        0.0|\n",
      "|       1| 2024-10-01 00:12:20|  2024-10-01 00:25:25|              1|          2.2|         1|                 N|          48|         236|           1|       14.2|  3.5|    0.5|       3.8|         0.0|                  1.0|        23.0|                 2.5|        0.0|\n",
      "|       1| 2024-10-01 00:04:46|  2024-10-01 00:13:52|              1|          2.7|         1|                 N|         142|          24|           1|       13.5|  3.5|    0.5|       3.7|         0.0|                  1.0|        22.2|                 2.5|        0.0|\n",
      "|       1| 2024-10-01 00:12:10|  2024-10-01 00:23:01|              1|          3.1|         1|                 N|         233|          75|           1|       14.2|  3.5|    0.5|       2.0|         0.0|                  1.0|        21.2|                 2.5|        0.0|\n",
      "|       1| 2024-10-01 00:30:22|  2024-10-01 00:30:39|              1|          0.0|         1|                 N|         262|         262|           3|        3.0|  3.5|    0.5|       0.0|         0.0|                  1.0|         8.0|                 2.5|        0.0|\n",
      "|       2| 2024-10-01 00:31:20|  2024-10-01 00:36:00|              2|         0.97|         1|                 N|         137|         137|           1|        7.2|  1.0|    0.5|      2.44|         0.0|                  1.0|       14.64|                 2.5|        0.0|\n",
      "|       1| 2024-10-01 00:42:57|  2024-10-01 00:49:01|              1|          1.3|         1|                 N|         142|          48|           1|        7.9|  3.5|    0.5|      2.55|         0.0|                  1.0|       15.45|                 2.5|        0.0|\n",
      "|       1| 2024-10-01 00:59:55|  2024-10-01 01:02:24|              1|          0.5|         1|                 N|         230|         161|           1|        5.1|  3.5|    0.5|       2.0|         0.0|                  1.0|        12.1|                 2.5|        0.0|\n",
      "|       1| 2024-10-01 00:00:47|  2024-10-01 00:04:22|              0|          1.1|         1|                 N|         142|         237|           1|        7.2|  3.5|    0.5|       3.0|         0.0|                  1.0|        15.2|                 2.5|        0.0|\n",
      "|       1| 2024-10-01 00:17:36|  2024-10-01 00:26:22|              1|          2.2|         1|                 N|         162|         145|           1|       11.4|  3.5|    0.5|       3.3|         0.0|                  1.0|        19.7|                 2.5|        0.0|\n",
      "|       1| 2024-10-01 00:49:00|  2024-10-01 00:52:20|              1|          0.6|         1|                 N|         229|         162|           1|        5.1|  3.5|    0.5|       2.0|         0.0|                  1.0|        12.1|                 2.5|        0.0|\n",
      "|       2| 2024-10-01 00:07:26|  2024-10-01 00:13:20|              1|          0.9|         1|                 N|         162|         162|           1|        7.9|  1.0|    0.5|      3.87|         0.0|                  1.0|       16.77|                 2.5|        0.0|\n",
      "|       2| 2024-10-01 00:17:11|  2024-10-01 00:25:00|              1|         1.33|         1|                 N|         162|         230|           1|        9.3|  1.0|    0.5|       2.0|         0.0|                  1.0|        16.3|                 2.5|        0.0|\n",
      "|       2| 2024-10-01 00:00:34|  2024-10-01 00:05:13|              1|         1.79|         1|                 N|         211|         234|           1|        9.3|  1.0|    0.5|      2.86|         0.0|                  1.0|       17.16|                 2.5|        0.0|\n",
      "|       2| 2024-09-30 23:58:40|  2024-10-01 00:20:26|              1|         5.16|         1|                 N|         142|           7|           1|       24.7|  1.0|    0.5|       0.0|         0.0|                  1.0|        29.7|                 2.5|        0.0|\n",
      "|       1| 2024-10-01 00:55:29|  2024-10-01 01:42:35|              1|         11.3|        99|                 N|         161|         197|           1|       39.5|  0.0|    0.5|       0.0|        6.94|                  1.0|       47.94|                 0.0|        0.0|\n",
      "|       1| 2024-10-01 00:08:59|  2024-10-01 00:40:58|              1|         20.6|         1|                 N|         132|         243|           2|       76.5| 2.75|    0.5|       0.0|        6.94|                  1.0|       87.69|                 0.0|       1.75|\n",
      "|       2| 2024-10-01 00:18:38|  2024-10-01 00:36:47|              2|         7.42|         1|                 N|         239|         247|           4|      -33.1| -1.0|   -0.5|       0.0|         0.0|                 -1.0|       -38.1|                -2.5|        0.0|\n",
      "|       2| 2024-10-01 00:18:38|  2024-10-01 00:36:47|              2|         7.42|         1|                 N|         239|         247|           4|       33.1|  1.0|    0.5|       0.0|         0.0|                  1.0|        38.1|                 2.5|        0.0|\n",
      "|       2| 2024-10-01 00:39:33|  2024-10-01 00:53:59|              1|         4.49|         1|                 N|         247|          60|           2|       21.9|  1.0|    0.5|       0.0|         0.0|                  1.0|        24.4|                 0.0|        0.0|\n",
      "+--------+--------------------+---------------------+---------------+-------------+----------+------------------+------------+------------+------------+-----------+-----+-------+----------+------------+---------------------+------------+--------------------+-----------+\n",
      "only showing top 20 rows\n",
      "\n"
     ]
    }
   ],
   "source": [
    "df.show()"
   ]
  },
  {
   "cell_type": "code",
   "execution_count": 26,
   "id": "085ed41e-e4e3-49fa-92b9-3eaa6c79ab28",
   "metadata": {},
   "outputs": [
    {
     "data": {
      "text/plain": [
       "[('VendorID', 'int'),\n",
       " ('tpep_pickup_datetime', 'timestamp'),\n",
       " ('tpep_dropoff_datetime', 'timestamp'),\n",
       " ('passenger_count', 'bigint'),\n",
       " ('trip_distance', 'double'),\n",
       " ('RatecodeID', 'bigint'),\n",
       " ('store_and_fwd_flag', 'string'),\n",
       " ('PULocationID', 'int'),\n",
       " ('DOLocationID', 'int'),\n",
       " ('payment_type', 'bigint'),\n",
       " ('fare_amount', 'double'),\n",
       " ('extra', 'double'),\n",
       " ('mta_tax', 'double'),\n",
       " ('tip_amount', 'double'),\n",
       " ('tolls_amount', 'double'),\n",
       " ('improvement_surcharge', 'double'),\n",
       " ('total_amount', 'double'),\n",
       " ('congestion_surcharge', 'double'),\n",
       " ('Airport_fee', 'double')]"
      ]
     },
     "execution_count": 26,
     "metadata": {},
     "output_type": "execute_result"
    }
   ],
   "source": [
    "df.dtypes"
   ]
  },
  {
   "cell_type": "code",
   "execution_count": 27,
   "id": "69e72e6d-7aaf-4f2d-b847-4b7904fde9c3",
   "metadata": {},
   "outputs": [],
   "source": [
    "df_repartitioned = df.repartition(4) ## this is a lazy command"
   ]
  },
  {
   "cell_type": "code",
   "execution_count": 28,
   "id": "f245ebdd-29c4-44bb-8654-73e62de2cab7",
   "metadata": {},
   "outputs": [
    {
     "name": "stderr",
     "output_type": "stream",
     "text": [
      "                                                                                \r"
     ]
    }
   ],
   "source": [
    "df_repartitioned.write.parquet('code/data/homework/partitioned')"
   ]
  },
  {
   "cell_type": "code",
   "execution_count": 33,
   "id": "352a8f6a-bfee-46b5-84f7-95bc8c6e2c52",
   "metadata": {},
   "outputs": [],
   "source": [
    "from pyspark.sql.functions import col\n",
    "\n",
    "df_q_3 = df_repartitioned \\\n",
    "    .filter(col(\"tpep_pickup_datetime\").cast(\"date\") == '2024-10-15')"
   ]
  },
  {
   "cell_type": "code",
   "execution_count": 35,
   "id": "e1129c76-2392-49f9-9bda-8f8fd5f99274",
   "metadata": {},
   "outputs": [
    {
     "data": {
      "text/plain": [
       "128893"
      ]
     },
     "execution_count": 35,
     "metadata": {},
     "output_type": "execute_result"
    }
   ],
   "source": [
    "df_q_3.count()"
   ]
  },
  {
   "cell_type": "code",
   "execution_count": 36,
   "id": "b66c029d-de00-4903-9582-48a911c40674",
   "metadata": {},
   "outputs": [],
   "source": [
    "#df_q_3_original = df \\\n",
    " #   .filter(col(\"tpep_pickup_datetime\").cast(\"date\") == '2024-10-15')\n",
    "df_q_3_original = df.where(\"DATE(tpep_pickup_datetime) = '2024-10-15'\")"
   ]
  },
  {
   "cell_type": "code",
   "execution_count": 37,
   "id": "5357ec8b-3f1f-48d1-93c9-3fc8748d6ff0",
   "metadata": {},
   "outputs": [
    {
     "name": "stdout",
     "output_type": "stream",
     "text": [
      "+--------+--------------------+---------------------+---------------+-------------+----------+------------------+------------+------------+------------+-----------+-----+-------+----------+------------+---------------------+------------+--------------------+-----------+\n",
      "|VendorID|tpep_pickup_datetime|tpep_dropoff_datetime|passenger_count|trip_distance|RatecodeID|store_and_fwd_flag|PULocationID|DOLocationID|payment_type|fare_amount|extra|mta_tax|tip_amount|tolls_amount|improvement_surcharge|total_amount|congestion_surcharge|Airport_fee|\n",
      "+--------+--------------------+---------------------+---------------+-------------+----------+------------------+------------+------------+------------+-----------+-----+-------+----------+------------+---------------------+------------+--------------------+-----------+\n",
      "|       2| 2024-10-15 07:31:31|  2024-10-15 07:40:59|              1|         2.24|         1|                 N|          90|         231|           1|       12.1|  0.0|    0.5|      4.02|         0.0|                  1.0|       20.12|                 2.5|        0.0|\n",
      "|       2| 2024-10-15 07:52:44|  2024-10-15 08:04:09|              1|         1.32|         1|                 N|         164|         170|           1|       12.1|  0.0|    0.5|      3.22|         0.0|                  1.0|       19.32|                 2.5|        0.0|\n",
      "|       2| 2024-10-15 12:54:48|  2024-10-15 13:49:24|              1|        14.61|         2|                 N|         229|         216|           1|       70.0|  0.0|    0.5|      18.5|         0.0|                  1.0|        92.5|                 2.5|        0.0|\n",
      "|       2| 2024-10-15 14:58:31|  2024-10-15 15:56:27|              1|        18.82|         2|                 N|         132|          75|           2|       70.0|  0.0|    0.5|       0.0|        6.94|                  1.0|       80.19|                 0.0|       1.75|\n",
      "|       2| 2024-10-15 15:25:10|  2024-10-15 16:10:52|              1|         8.93|         1|                 N|         138|         230|           1|       50.6|  5.0|    0.5|     13.66|        6.94|                  1.0|       81.95|                 2.5|       1.75|\n",
      "|       2| 2024-10-15 16:20:05|  2024-10-15 16:36:27|              1|         2.78|         1|                 N|          68|         239|           1|       17.0|  0.0|    0.5|       2.0|         0.0|                  1.0|        23.0|                 2.5|        0.0|\n",
      "|       2| 2024-10-15 16:17:04|  2024-10-15 16:28:13|              1|         1.36|         1|                 N|          75|         151|           1|       12.1|  0.0|    0.5|      2.72|         0.0|                  1.0|       16.32|                 0.0|        0.0|\n",
      "|       2| 2024-10-15 16:38:27|  2024-10-15 16:42:05|              1|         0.52|         1|                 N|         239|         239|           1|        5.8|  0.0|    0.5|      1.47|         0.0|                  1.0|       11.27|                 2.5|        0.0|\n",
      "|       2| 2024-10-15 16:59:33|  2024-10-15 17:28:41|              1|         3.38|         1|                 N|         142|         224|           1|       26.1|  0.0|    0.5|       2.0|         0.0|                  1.0|        32.1|                 2.5|        0.0|\n",
      "|       2| 2024-10-15 17:43:55|  2024-10-15 18:19:53|              1|         2.89|         1|                 N|         107|          43|           1|       29.6|  0.0|    0.5|       8.4|         0.0|                  1.0|        42.0|                 2.5|        0.0|\n",
      "|       2| 2024-10-15 17:25:25|  2024-10-15 17:38:07|              1|         1.87|         1|                 N|          13|         249|           1|       13.5|  0.0|    0.5|      1.08|         0.0|                  1.0|       18.58|                 2.5|        0.0|\n",
      "|       2| 2024-10-15 17:47:49|  2024-10-15 18:26:58|              1|         5.58|         1|                 N|         158|         238|           1|       35.9|  0.0|    0.5|       3.0|         0.0|                  1.0|        42.9|                 2.5|        0.0|\n",
      "|       2| 2024-10-15 18:21:41|  2024-10-15 18:36:02|              1|         1.71|         1|                 N|          43|         229|           2|       14.2|  0.0|    0.5|       0.0|         0.0|                  1.0|        18.2|                 2.5|        0.0|\n",
      "|       2| 2024-10-15 18:42:21|  2024-10-15 18:59:54|              1|         2.02|         1|                 N|         229|         142|           1|       16.3|  0.0|    0.5|      4.06|         0.0|                  1.0|       24.36|                 2.5|        0.0|\n",
      "|       2| 2024-10-15 18:29:24|  2024-10-15 18:35:26|              1|         0.86|         1|                 N|         151|         238|           1|        7.9|  0.0|    0.5|      2.38|         0.0|                  1.0|       14.28|                 2.5|        0.0|\n",
      "|       2| 2024-10-15 19:18:02|  2024-10-15 19:21:58|              1|         0.55|         1|                 N|         158|         249|           2|        5.8|  0.0|    0.5|       0.0|         0.0|                  1.0|         9.8|                 2.5|        0.0|\n",
      "|       2| 2024-10-15 20:17:14|  2024-10-15 20:24:27|              1|          1.5|         1|                 N|         141|         262|           1|        9.3|  1.0|    0.5|      2.86|         0.0|                  1.0|       17.16|                 2.5|        0.0|\n",
      "|       2| 2024-10-15 20:35:25|  2024-10-15 20:46:09|              1|         1.89|         1|                 N|         236|         229|           1|       12.1|  1.0|    0.5|      3.42|         0.0|                  1.0|       20.52|                 2.5|        0.0|\n",
      "|       2| 2024-10-15 20:50:47|  2024-10-15 21:10:26|              1|         3.78|         1|                 N|         162|         238|           1|       20.5|  1.0|    0.5|       5.1|         0.0|                  1.0|        30.6|                 2.5|        0.0|\n",
      "|       2| 2024-10-15 21:13:32|  2024-10-15 21:19:02|              1|         1.01|         1|                 N|         238|         239|           2|        7.9|  1.0|    0.5|       0.0|         0.0|                  1.0|        12.9|                 2.5|        0.0|\n",
      "+--------+--------------------+---------------------+---------------+-------------+----------+------------------+------------+------------+------------+-----------+-----+-------+----------+------------+---------------------+------------+--------------------+-----------+\n",
      "only showing top 20 rows\n",
      "\n"
     ]
    }
   ],
   "source": [
    "df_q_3_original.show()"
   ]
  },
  {
   "cell_type": "code",
   "execution_count": 38,
   "id": "c6bda866-1832-42d4-bc93-7ef77393c0d1",
   "metadata": {},
   "outputs": [
    {
     "data": {
      "text/plain": [
       "128893"
      ]
     },
     "execution_count": 38,
     "metadata": {},
     "output_type": "execute_result"
    }
   ],
   "source": [
    "df_q_3_original.count()"
   ]
  },
  {
   "cell_type": "code",
   "execution_count": 39,
   "id": "ee3c09c6-5edb-4a3d-b3d3-feddc953c419",
   "metadata": {},
   "outputs": [],
   "source": [
    "df_repartitioned.createOrReplaceTempView('trips_repartitioned')\n",
    "df.createOrReplaceTempView('trips')"
   ]
  },
  {
   "cell_type": "code",
   "execution_count": 41,
   "id": "0a4807d5-9302-4a05-a9cc-6bacbdd3edf2",
   "metadata": {},
   "outputs": [],
   "source": [
    "query = \"\"\"\n",
    "SELECT * FROM trips \n",
    "WHERE TO_DATE(FROM_UTC_TIMESTAMP(tpep_pickup_datetime, 'Europe/Berlin')) = '2024-10-15'\n",
    "\"\"\""
   ]
  },
  {
   "cell_type": "code",
   "execution_count": 43,
   "id": "c69a37c8-86c7-4460-9446-3ee3e71bf8f7",
   "metadata": {},
   "outputs": [
    {
     "name": "stderr",
     "output_type": "stream",
     "text": [
      "                                                                                \r"
     ]
    },
    {
     "data": {
      "text/plain": [
       "125567"
      ]
     },
     "execution_count": 43,
     "metadata": {},
     "output_type": "execute_result"
    }
   ],
   "source": [
    "df_filtered = spark.sql(query)\n",
    "df_filtered.count()"
   ]
  },
  {
   "cell_type": "code",
   "execution_count": 44,
   "id": "0069af63-6908-4e2e-9299-d456f39ec41f",
   "metadata": {},
   "outputs": [],
   "source": [
    "query_repartitioned = \"\"\"\n",
    "SELECT * FROM trips_repartitioned \n",
    "WHERE TO_DATE(FROM_UTC_TIMESTAMP(tpep_pickup_datetime, 'Europe/Berlin')) = '2024-10-15'\n",
    "\"\"\""
   ]
  },
  {
   "cell_type": "code",
   "execution_count": 45,
   "id": "006f638a-d061-4b50-b27f-f83b09b669e3",
   "metadata": {},
   "outputs": [
    {
     "name": "stderr",
     "output_type": "stream",
     "text": [
      "                                                                                \r"
     ]
    },
    {
     "data": {
      "text/plain": [
       "125567"
      ]
     },
     "execution_count": 45,
     "metadata": {},
     "output_type": "execute_result"
    }
   ],
   "source": [
    "df_filtered_repartitioned = spark.sql(query_repartitioned)\n",
    "df_filtered_repartitioned.count()"
   ]
  },
  {
   "cell_type": "code",
   "execution_count": 56,
   "id": "a73ff361-cc11-4c74-8ffa-21eff7ee7699",
   "metadata": {},
   "outputs": [
    {
     "name": "stdout",
     "output_type": "stream",
     "text": [
      "+-------------------+-------------------+----------+------------------+------------------+\n",
      "|              start|                end|difference|    difference_hrs|   difference_days|\n",
      "+-------------------+-------------------+----------+------------------+------------------+\n",
      "|2024-10-16 13:03:49|2024-10-23 07:40:53|    585424|162.61777777777777|13.551481481481481|\n",
      "|2024-10-03 18:47:25|2024-10-09 18:06:55|    515970|           143.325|          11.94375|\n",
      "|2024-10-22 16:00:55|2024-10-28 09:46:33|    495938|137.76055555555556|11.480046296296296|\n",
      "|2024-10-18 09:53:32|2024-10-23 04:43:37|    413405|114.83472222222223| 9.569560185185185|\n",
      "|2024-10-21 00:36:24|2024-10-24 18:30:18|    323634| 89.89833333333333| 7.491527777777778|\n",
      "|2024-10-20 13:30:52|2024-10-24 06:57:38|    322006| 89.44611111111111| 7.453842592592593|\n",
      "|2024-10-22 16:04:52|2024-10-25 14:22:49|    253077| 70.29916666666666| 5.858263888888889|\n",
      "|2024-10-12 19:32:51|2024-10-15 15:07:15|    243264| 67.57333333333334| 5.631111111111111|\n",
      "|2024-10-17 17:58:18|2024-10-20 12:02:18|    237840| 66.06666666666666|5.5055555555555555|\n",
      "|2024-10-21 14:28:21|2024-10-23 12:53:42|    167121|           46.4225|3.8685416666666668|\n",
      "|2024-10-20 18:58:28|2024-10-22 13:17:00|    152312| 42.30888888888889|3.5257407407407406|\n",
      "|2024-10-24 20:29:58|2024-10-26 10:58:25|    138507| 38.47416666666667|3.2061805555555556|\n",
      "|2024-10-23 23:52:02|2024-10-25 09:49:06|    122224| 33.95111111111111|2.8292592592592594|\n",
      "|2024-10-02 10:36:50|2024-10-03 12:54:45|     94675| 26.29861111111111| 2.191550925925926|\n",
      "|2024-10-14 22:39:53|2024-10-15 23:57:22|     91049| 25.29138888888889|2.1076157407407408|\n",
      "|2024-10-15 11:49:15|2024-10-16 13:03:33|     90858|25.238333333333333|2.1031944444444446|\n",
      "|2024-10-23 11:22:58|2024-10-24 11:51:10|     88092|             24.47|2.0391666666666666|\n",
      "|2024-10-20 13:37:44|2024-10-21 13:37:32|     86388|23.996666666666666|1.9997222222222222|\n",
      "|2024-10-14 20:22:20|2024-10-15 20:22:03|     86383|23.995277777777776|1.9996064814814816|\n",
      "|2024-10-02 19:04:07|2024-10-03 19:03:48|     86381|23.994722222222222|1.9995601851851852|\n",
      "+-------------------+-------------------+----------+------------------+------------------+\n",
      "only showing top 20 rows\n",
      "\n"
     ]
    }
   ],
   "source": [
    "query_longest_trip = \"\"\"\n",
    "SELECT \n",
    "    tpep_pickup_datetime as start,\n",
    "    tpep_dropoff_datetime as end,\n",
    "    UNIX_TIMESTAMP(tpep_dropoff_datetime) - UNIX_TIMESTAMP(tpep_pickup_datetime) AS difference,\n",
    "    (UNIX_TIMESTAMP(tpep_dropoff_datetime) - UNIX_TIMESTAMP(tpep_pickup_datetime)) / 3600 AS difference_hrs,\n",
    "    (UNIX_TIMESTAMP(tpep_dropoff_datetime) - UNIX_TIMESTAMP(tpep_pickup_datetime)) / (3600*12) AS difference_days\n",
    "FROM trips \n",
    "ORDER BY 3 desc\n",
    "LIMIT 100\n",
    "\"\"\"\n",
    "df_longest = spark.sql(query_longest_trip)\n",
    "df_longest.show()"
   ]
  },
  {
   "cell_type": "code",
   "execution_count": 57,
   "id": "7d140815-c532-49d6-88d6-b12ad9ee1f61",
   "metadata": {},
   "outputs": [
    {
     "name": "stderr",
     "output_type": "stream",
     "text": [
      "[Stage 54:=============================>                            (2 + 2) / 4]\r"
     ]
    },
    {
     "name": "stdout",
     "output_type": "stream",
     "text": [
      "+-------------------+-------------------+----------+------------------+------------------+\n",
      "|              start|                end|difference|    difference_hrs|   difference_days|\n",
      "+-------------------+-------------------+----------+------------------+------------------+\n",
      "|2024-10-16 13:03:49|2024-10-23 07:40:53|    585424|162.61777777777777|13.551481481481481|\n",
      "|2024-10-03 18:47:25|2024-10-09 18:06:55|    515970|           143.325|          11.94375|\n",
      "|2024-10-22 16:00:55|2024-10-28 09:46:33|    495938|137.76055555555556|11.480046296296296|\n",
      "|2024-10-18 09:53:32|2024-10-23 04:43:37|    413405|114.83472222222223| 9.569560185185185|\n",
      "|2024-10-21 00:36:24|2024-10-24 18:30:18|    323634| 89.89833333333333| 7.491527777777778|\n",
      "|2024-10-20 13:30:52|2024-10-24 06:57:38|    322006| 89.44611111111111| 7.453842592592593|\n",
      "|2024-10-22 16:04:52|2024-10-25 14:22:49|    253077| 70.29916666666666| 5.858263888888889|\n",
      "|2024-10-12 19:32:51|2024-10-15 15:07:15|    243264| 67.57333333333334| 5.631111111111111|\n",
      "|2024-10-17 17:58:18|2024-10-20 12:02:18|    237840| 66.06666666666666|5.5055555555555555|\n",
      "|2024-10-21 14:28:21|2024-10-23 12:53:42|    167121|           46.4225|3.8685416666666668|\n",
      "|2024-10-20 18:58:28|2024-10-22 13:17:00|    152312| 42.30888888888889|3.5257407407407406|\n",
      "|2024-10-24 20:29:58|2024-10-26 10:58:25|    138507| 38.47416666666667|3.2061805555555556|\n",
      "|2024-10-23 23:52:02|2024-10-25 09:49:06|    122224| 33.95111111111111|2.8292592592592594|\n",
      "|2024-10-02 10:36:50|2024-10-03 12:54:45|     94675| 26.29861111111111| 2.191550925925926|\n",
      "|2024-10-14 22:39:53|2024-10-15 23:57:22|     91049| 25.29138888888889|2.1076157407407408|\n",
      "|2024-10-15 11:49:15|2024-10-16 13:03:33|     90858|25.238333333333333|2.1031944444444446|\n",
      "|2024-10-23 11:22:58|2024-10-24 11:51:10|     88092|             24.47|2.0391666666666666|\n",
      "|2024-10-20 13:37:44|2024-10-21 13:37:32|     86388|23.996666666666666|1.9997222222222222|\n",
      "|2024-10-14 20:22:20|2024-10-15 20:22:03|     86383|23.995277777777776|1.9996064814814816|\n",
      "|2024-10-02 19:04:07|2024-10-03 19:03:48|     86381|23.994722222222222|1.9995601851851852|\n",
      "+-------------------+-------------------+----------+------------------+------------------+\n",
      "only showing top 20 rows\n",
      "\n"
     ]
    },
    {
     "name": "stderr",
     "output_type": "stream",
     "text": [
      "                                                                                \r"
     ]
    }
   ],
   "source": [
    "query_longest_trip_repartitioned = \"\"\"\n",
    "SELECT \n",
    "    tpep_pickup_datetime as start,\n",
    "    tpep_dropoff_datetime as end,\n",
    "    UNIX_TIMESTAMP(tpep_dropoff_datetime) - UNIX_TIMESTAMP(tpep_pickup_datetime) AS difference,\n",
    "    (UNIX_TIMESTAMP(tpep_dropoff_datetime) - UNIX_TIMESTAMP(tpep_pickup_datetime)) / 3600 AS difference_hrs,\n",
    "    (UNIX_TIMESTAMP(tpep_dropoff_datetime) - UNIX_TIMESTAMP(tpep_pickup_datetime)) / (3600*12) AS difference_days\n",
    "FROM trips_repartitioned \n",
    "ORDER BY 3 desc\n",
    "LIMIT 100\n",
    "\"\"\"\n",
    "df_longest_repartitioned = spark.sql(query_longest_trip_repartitioned)\n",
    "df_longest_repartitioned.show()"
   ]
  },
  {
   "cell_type": "code",
   "execution_count": null,
   "id": "7324b6a1-9226-41e3-9e6d-c57657034fed",
   "metadata": {},
   "outputs": [],
   "source": [
    "!wget https://d37ci6vzurychx.cloudfront.net/misc/taxi_zone_lookup.csv"
   ]
  },
  {
   "cell_type": "code",
   "execution_count": 95,
   "id": "3861c457-7bab-4ea8-8dd5-c2a68dcbbdcc",
   "metadata": {},
   "outputs": [],
   "source": [
    "df_lookup = spark.read \\\n",
    "    .option(\"header\",\"true\")\\\n",
    "    .csv('code/data/homework/raw/taxi_zone_lookup.csv')"
   ]
  },
  {
   "cell_type": "code",
   "execution_count": 96,
   "id": "1d3f6c71-a8ec-46a7-9724-27e883004b88",
   "metadata": {},
   "outputs": [
    {
     "name": "stdout",
     "output_type": "stream",
     "text": [
      "+----------+-------------+--------------------+------------+\n",
      "|LocationID|      Borough|                Zone|service_zone|\n",
      "+----------+-------------+--------------------+------------+\n",
      "|         1|          EWR|      Newark Airport|         EWR|\n",
      "|         2|       Queens|         Jamaica Bay|   Boro Zone|\n",
      "|         3|        Bronx|Allerton/Pelham G...|   Boro Zone|\n",
      "|         4|    Manhattan|       Alphabet City| Yellow Zone|\n",
      "|         5|Staten Island|       Arden Heights|   Boro Zone|\n",
      "|         6|Staten Island|Arrochar/Fort Wad...|   Boro Zone|\n",
      "|         7|       Queens|             Astoria|   Boro Zone|\n",
      "|         8|       Queens|        Astoria Park|   Boro Zone|\n",
      "|         9|       Queens|          Auburndale|   Boro Zone|\n",
      "|        10|       Queens|        Baisley Park|   Boro Zone|\n",
      "|        11|     Brooklyn|          Bath Beach|   Boro Zone|\n",
      "|        12|    Manhattan|        Battery Park| Yellow Zone|\n",
      "|        13|    Manhattan|   Battery Park City| Yellow Zone|\n",
      "|        14|     Brooklyn|           Bay Ridge|   Boro Zone|\n",
      "|        15|       Queens|Bay Terrace/Fort ...|   Boro Zone|\n",
      "|        16|       Queens|             Bayside|   Boro Zone|\n",
      "|        17|     Brooklyn|             Bedford|   Boro Zone|\n",
      "|        18|        Bronx|        Bedford Park|   Boro Zone|\n",
      "|        19|       Queens|           Bellerose|   Boro Zone|\n",
      "|        20|        Bronx|             Belmont|   Boro Zone|\n",
      "+----------+-------------+--------------------+------------+\n",
      "only showing top 20 rows\n",
      "\n"
     ]
    }
   ],
   "source": [
    "df_lookup.show()"
   ]
  },
  {
   "cell_type": "code",
   "execution_count": 97,
   "id": "5533ed09-0495-48ee-a179-40ab0837ac3a",
   "metadata": {},
   "outputs": [],
   "source": [
    "df_lookup.createOrReplaceTempView('lookup_table')\n"
   ]
  },
  {
   "cell_type": "code",
   "execution_count": 98,
   "id": "5a915e75-617c-4408-9bd8-1e214897bf06",
   "metadata": {},
   "outputs": [
    {
     "name": "stdout",
     "output_type": "stream",
     "text": [
      "+----------+-------------+--------------------+------------+\n",
      "|LocationID|      Borough|                Zone|service_zone|\n",
      "+----------+-------------+--------------------+------------+\n",
      "|         1|          EWR|      Newark Airport|         EWR|\n",
      "|         2|       Queens|         Jamaica Bay|   Boro Zone|\n",
      "|         3|        Bronx|Allerton/Pelham G...|   Boro Zone|\n",
      "|         4|    Manhattan|       Alphabet City| Yellow Zone|\n",
      "|         5|Staten Island|       Arden Heights|   Boro Zone|\n",
      "|         6|Staten Island|Arrochar/Fort Wad...|   Boro Zone|\n",
      "|         7|       Queens|             Astoria|   Boro Zone|\n",
      "|         8|       Queens|        Astoria Park|   Boro Zone|\n",
      "|         9|       Queens|          Auburndale|   Boro Zone|\n",
      "|        10|       Queens|        Baisley Park|   Boro Zone|\n",
      "|        11|     Brooklyn|          Bath Beach|   Boro Zone|\n",
      "|        12|    Manhattan|        Battery Park| Yellow Zone|\n",
      "|        13|    Manhattan|   Battery Park City| Yellow Zone|\n",
      "|        14|     Brooklyn|           Bay Ridge|   Boro Zone|\n",
      "|        15|       Queens|Bay Terrace/Fort ...|   Boro Zone|\n",
      "|        16|       Queens|             Bayside|   Boro Zone|\n",
      "|        17|     Brooklyn|             Bedford|   Boro Zone|\n",
      "|        18|        Bronx|        Bedford Park|   Boro Zone|\n",
      "|        19|       Queens|           Bellerose|   Boro Zone|\n",
      "|        20|        Bronx|             Belmont|   Boro Zone|\n",
      "+----------+-------------+--------------------+------------+\n",
      "only showing top 20 rows\n",
      "\n"
     ]
    }
   ],
   "source": [
    "simple_query = \"\"\"\n",
    "SELECT * FROM lookup_table\n",
    "\"\"\"\n",
    "df_simple = spark.sql(simple_query)\n",
    "df_simple.show()"
   ]
  },
  {
   "cell_type": "code",
   "execution_count": 100,
   "id": "11871479-b4c0-4ef5-89b8-1c584bc56e51",
   "metadata": {},
   "outputs": [
    {
     "name": "stdout",
     "output_type": "stream",
     "text": [
      "+------------------+---------+--------------------+------------+\n",
      "|pickup_location_id|  Borough|                Zone|service_zone|\n",
      "+------------------+---------+--------------------+------------+\n",
      "|               105|Manhattan|Governor's Island...| Yellow Zone|\n",
      "+------------------+---------+--------------------+------------+\n",
      "\n"
     ]
    }
   ],
   "source": [
    "query_least_frequent = \"\"\"\n",
    "SELECT \n",
    "    p.pickup_location_id,\n",
    "    l.Borough,\n",
    "    l.Zone,\n",
    "    l.service_zone\n",
    "FROM(\n",
    "SELECT \n",
    "    PULocationID as pickup_location_id,\n",
    "    COUNT(PULocationID) AS count_pu_location\n",
    "FROM trips \n",
    "WHERE YEAR(tpep_pickup_datetime) = 2024\n",
    "AND MONTH(tpep_pickup_datetime) = 10\n",
    "GROUP BY PULocationID\n",
    "ORDER BY 2 asc\n",
    "limit 1\n",
    ")  p\n",
    "LEFT JOIN lookup_table l ON l.LocationID = p.pickup_location_id\n",
    "\"\"\"\n",
    "df_least = spark.sql(query_least_frequent)\n",
    "df_least.show()"
   ]
  },
  {
   "cell_type": "code",
   "execution_count": 101,
   "id": "1c40f894-47dc-45ff-b0d1-e2a0be3e8fe2",
   "metadata": {},
   "outputs": [],
   "source": [
    "df_least.write.csv('code/data/homework/answer/least.csv')"
   ]
  }
 ],
 "metadata": {
  "kernelspec": {
   "display_name": "Python 3 (ipykernel)",
   "language": "python",
   "name": "python3"
  },
  "language_info": {
   "codemirror_mode": {
    "name": "ipython",
    "version": 3
   },
   "file_extension": ".py",
   "mimetype": "text/x-python",
   "name": "python",
   "nbconvert_exporter": "python",
   "pygments_lexer": "ipython3",
   "version": "3.12.2"
  }
 },
 "nbformat": 4,
 "nbformat_minor": 5
}
