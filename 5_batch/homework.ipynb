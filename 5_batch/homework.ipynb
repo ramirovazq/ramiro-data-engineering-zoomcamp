{
 "cells": [
  {
   "cell_type": "code",
   "execution_count": 8,
   "id": "55dc69e4-be6a-4be0-b951-23ceef351be0",
   "metadata": {},
   "outputs": [
    {
     "data": {
      "text/plain": [
       "<module 'pyspark.version' from '/home/ramisu/spark/spark-3.3.2-bin-hadoop3/python/pyspark/version.py'>"
      ]
     },
     "execution_count": 8,
     "metadata": {},
     "output_type": "execute_result"
    }
   ],
   "source": [
    "pyspark.version"
   ]
  },
  {
   "cell_type": "code",
   "execution_count": 1,
   "id": "6f867d22-58df-42de-b540-e1b04d6fc9d4",
   "metadata": {},
   "outputs": [],
   "source": [
    "import pyspark \n",
    "from pyspark.sql import SparkSession"
   ]
  },
  {
   "cell_type": "code",
   "execution_count": 2,
   "id": "30d2e446-d61e-49ec-8292-b692a4738638",
   "metadata": {},
   "outputs": [
    {
     "name": "stderr",
     "output_type": "stream",
     "text": [
      "Setting default log level to \"WARN\".\n",
      "To adjust logging level use sc.setLogLevel(newLevel). For SparkR, use setLogLevel(newLevel).\n"
     ]
    },
    {
     "name": "stdout",
     "output_type": "stream",
     "text": [
      "25/03/11 03:37:41 WARN NativeCodeLoader: Unable to load native-hadoop library for your platform... using builtin-java classes where applicable\n",
      "25/03/11 03:37:42 WARN Utils: Service 'SparkUI' could not bind on port 4040. Attempting port 4041.\n"
     ]
    }
   ],
   "source": [
    "spark = SparkSession.builder \\\n",
    "        .master('local[*]') \\\n",
    "        .appName('test')\\\n",
    "        .getOrCreate()"
   ]
  },
  {
   "cell_type": "code",
   "execution_count": 7,
   "id": "05ba56c2-b1c0-4747-a492-a34398f5894a",
   "metadata": {},
   "outputs": [
    {
     "name": "stdout",
     "output_type": "stream",
     "text": [
      "total 8.0K\n",
      "drwxrwxr-x 2 ramisu ramisu 4.0K Mar 11 03:38 .\n",
      "drwxrwxr-x 7 ramisu ramisu 4.0K Mar 11 03:38 ..\n"
     ]
    }
   ],
   "source": [
    "!ls -lakh code/data/homework\n"
   ]
  },
  {
   "cell_type": "code",
   "execution_count": null,
   "id": "68cfd1b0-fa84-4181-8db0-82240fbc2815",
   "metadata": {},
   "outputs": [],
   "source": [
    "!wget "
   ]
  }
 ],
 "metadata": {
  "kernelspec": {
   "display_name": "Python 3 (ipykernel)",
   "language": "python",
   "name": "python3"
  },
  "language_info": {
   "codemirror_mode": {
    "name": "ipython",
    "version": 3
   },
   "file_extension": ".py",
   "mimetype": "text/x-python",
   "name": "python",
   "nbconvert_exporter": "python",
   "pygments_lexer": "ipython3",
   "version": "3.12.2"
  }
 },
 "nbformat": 4,
 "nbformat_minor": 5
}
