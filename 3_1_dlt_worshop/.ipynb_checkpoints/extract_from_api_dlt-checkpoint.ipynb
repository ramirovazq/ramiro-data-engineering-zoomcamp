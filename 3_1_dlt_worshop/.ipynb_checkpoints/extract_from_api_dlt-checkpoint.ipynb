{
 "cells": [
  {
   "cell_type": "code",
   "execution_count": 7,
   "id": "eed2f6ec-7536-4c05-aa16-3561153791ca",
   "metadata": {},
   "outputs": [],
   "source": [
    "import dlt\n",
    "from dlt.sources.helpers.rest_client import RESTClient\n",
    "from dlt.sources.helpers.rest_client.paginators import PageNumberPaginator"
   ]
  },
  {
   "cell_type": "code",
   "execution_count": 8,
   "id": "15b6a587-70ca-497c-9b5a-f86cc49d4176",
   "metadata": {},
   "outputs": [],
   "source": [
    "@dlt.resource(name=\"rides\")\n",
    "def ny_taxi():\n",
    "    client = RESTClient(\n",
    "        base_url=\"https://us-central1-dlthub-analytics.cloudfunctions.net\",\n",
    "        #headers={\"User-Agent\": \"MyApp/1.0\"},\n",
    "        #auth=BearerTokenAuth(token=\"your_access_token_here\"),  # type: ignore\n",
    "        #paginator=JSONLinkPaginator(next_url_path=\"pagination.next\"),\n",
    "        paginator=PageNumberPaginator(\n",
    "            base_page=1,\n",
    "            total_path=None\n",
    "        )\n",
    "        #data_selector=\"data\",\n",
    "        #session=MyCustomSession()\n",
    "    )\n",
    "    for page in client.paginate(\"data_engineering_zoomcamp_api\"):\n",
    "        yield page\n"
   ]
  },
  {
   "cell_type": "code",
   "execution_count": 9,
   "id": "8b222770-0ecb-46d7-9ef5-643859fc9268",
   "metadata": {},
   "outputs": [],
   "source": [
    "pipeline = dlt.pipeline(\n",
    "    pipeline_name=\"ny_taxi_pipeline\",\n",
    "    destination=\"duckdb\",\n",
    "    dataset_name=\"ny_taxi_data\"\n",
    ")\n",
    "\n"
   ]
  },
  {
   "cell_type": "code",
   "execution_count": null,
   "id": "beeeea7b-5244-4290-bb18-116c887be3fc",
   "metadata": {},
   "outputs": [],
   "source": [
    "load_info = pipeline.run(ny_taxi)\n",
    "print(load_info)\n"
   ]
  },
  {
   "cell_type": "code",
   "execution_count": null,
   "id": "be99f9d6-3833-4004-9a7e-76ef1dbf27d5",
   "metadata": {},
   "outputs": [],
   "source": [
    "\n",
    "# explore loaded data\n",
    "pipeline.dataset(dataset_type=\"default\").rides.df()"
   ]
  },
  {
   "cell_type": "code",
   "execution_count": null,
   "id": "c66c0b8a-3615-41f8-aad3-2817076737d8",
   "metadata": {},
   "outputs": [],
   "source": []
  }
 ],
 "metadata": {
  "kernelspec": {
   "display_name": "Python 3 (ipykernel)",
   "language": "python",
   "name": "python3"
  },
  "language_info": {
   "codemirror_mode": {
    "name": "ipython",
    "version": 3
   },
   "file_extension": ".py",
   "mimetype": "text/x-python",
   "name": "python",
   "nbconvert_exporter": "python",
   "pygments_lexer": "ipython3",
   "version": "3.9.21"
  }
 },
 "nbformat": 4,
 "nbformat_minor": 5
}
